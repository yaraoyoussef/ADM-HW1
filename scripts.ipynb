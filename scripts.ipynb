{
 "cells": [
  {
   "cell_type": "markdown",
   "metadata": {},
   "source": [
    "### Say \"Hello, World!\" With Python"
   ]
  },
  {
   "cell_type": "code",
   "execution_count": null,
   "metadata": {},
   "outputs": [],
   "source": [
    "if __name__ == '__main__':\n",
    "    print(\"Hello, World!\")"
   ]
  },
  {
   "cell_type": "markdown",
   "metadata": {},
   "source": [
    "### Python If-Else"
   ]
  },
  {
   "cell_type": "code",
   "execution_count": null,
   "metadata": {},
   "outputs": [],
   "source": [
    "import math\n",
    "import os\n",
    "import random\n",
    "import re\n",
    "import sys\n",
    "\n",
    "\n",
    "\n",
    "if __name__ == '__main__':\n",
    "    n = int(input().strip())\n",
    "    if n%2 != 0 or (n%2==0 and 6<=n<=20):\n",
    "        print(\"Weird\")\n",
    "    elif (n%2==0 and 2<=n<=5) or (n%2==0 and n>20):\n",
    "        print(\"Not Weird\")\n"
   ]
  },
  {
   "cell_type": "markdown",
   "metadata": {},
   "source": [
    "### Arithmetic Operators"
   ]
  },
  {
   "cell_type": "code",
   "execution_count": null,
   "metadata": {},
   "outputs": [],
   "source": [
    "if __name__ == '__main__':\n",
    "    a = int(input())\n",
    "    b = int(input())\n",
    "    print(a+b)\n",
    "    print(a-b)\n",
    "    print(a*b)\n"
   ]
  },
  {
   "cell_type": "markdown",
   "metadata": {},
   "source": [
    "### Python: Division"
   ]
  },
  {
   "cell_type": "code",
   "execution_count": null,
   "metadata": {},
   "outputs": [],
   "source": [
    "if __name__ == '__main__':\n",
    "    a = int(input())\n",
    "    b = int(input())\n",
    "    print(a//b)\n",
    "    print(a/b)"
   ]
  },
  {
   "cell_type": "markdown",
   "metadata": {},
   "source": [
    "### Loops"
   ]
  },
  {
   "cell_type": "code",
   "execution_count": null,
   "metadata": {},
   "outputs": [],
   "source": [
    "if __name__ == '__main__':\n",
    "    n = int(input())\n",
    "    for i in range(n):\n",
    "        print(i**2)"
   ]
  },
  {
   "cell_type": "markdown",
   "metadata": {},
   "source": [
    "### Write a function"
   ]
  },
  {
   "cell_type": "code",
   "execution_count": null,
   "metadata": {},
   "outputs": [],
   "source": [
    "def is_leap(year):\n",
    "    leap = False\n",
    "    \n",
    "    # Write your logic here\n",
    "    if year%4==0 and (year%100!=0 or year%400==0):\n",
    "        leap=True\n",
    "    else: \n",
    "        leap=False\n",
    "    return leap\n",
    "\n",
    "year = int(input())\n",
    "print(is_leap(year))"
   ]
  },
  {
   "cell_type": "markdown",
   "metadata": {},
   "source": [
    "### Print Function"
   ]
  },
  {
   "cell_type": "code",
   "execution_count": null,
   "metadata": {},
   "outputs": [],
   "source": [
    "if __name__ == '__main__':\n",
    "    n = int(input())\n",
    "    for i in range(1, n+1):\n",
    "        print(i, end=\"\")"
   ]
  },
  {
   "cell_type": "markdown",
   "metadata": {},
   "source": [
    "### List Comprehensions"
   ]
  },
  {
   "cell_type": "code",
   "execution_count": null,
   "metadata": {},
   "outputs": [],
   "source": [
    "if __name__ == '__main__':\n",
    "    x = int(input())\n",
    "    y = int(input())\n",
    "    z = int(input())\n",
    "    n = int(input())\n",
    "    l =[]\n",
    "    for i in range(x+1):\n",
    "        for j in range(y+1):\n",
    "            for k in range(z+1):\n",
    "                if i+j+k!=n:\n",
    "                    l.append([i, j, k])\n",
    "    print(l)\n",
    "        \n"
   ]
  },
  {
   "cell_type": "markdown",
   "metadata": {},
   "source": [
    "### Find the Runner-Up Score!"
   ]
  },
  {
   "cell_type": "code",
   "execution_count": null,
   "metadata": {},
   "outputs": [],
   "source": [
    "if __name__ == '__main__':\n",
    "    n = int(input())\n",
    "    arr = map(int, input().split())\n",
    "    l1 = list(arr)\n",
    "    max_val = max(l1)\n",
    "    l2 = [val for val in l1 if val!=max_val]\n",
    "    print(max(l2))\n",
    "    "
   ]
  },
  {
   "cell_type": "markdown",
   "metadata": {},
   "source": [
    "### Nested Lists"
   ]
  },
  {
   "cell_type": "code",
   "execution_count": null,
   "metadata": {},
   "outputs": [],
   "source": [
    "if __name__ == '__main__':\n",
    "    records = []\n",
    "    for _ in range(int(input())):\n",
    "        name = input()\n",
    "        score = float(input())\n",
    "        records.append([name, score])\n",
    "    scores = list(set([record[1] for record in records]))\n",
    "    scores.sort()\n",
    "    names = [record[0] for record in records if record[1]==scores[1]]\n",
    "    names.sort()\n",
    "    for name in names:\n",
    "        print(name)\n"
   ]
  },
  {
   "cell_type": "markdown",
   "metadata": {},
   "source": [
    "### Finding the percentage"
   ]
  },
  {
   "cell_type": "code",
   "execution_count": null,
   "metadata": {},
   "outputs": [],
   "source": [
    "if __name__ == '__main__':\n",
    "    n = int(input())\n",
    "    student_marks = {}\n",
    "    for _ in range(n):\n",
    "        name, *line = input().split()\n",
    "        scores = list(map(float, line))\n",
    "        student_marks[name] = scores\n",
    "    query_name = input()\n",
    "    list_val = student_marks[query_name]\n",
    "    average_score = 0\n",
    "    for val in list_val:\n",
    "        average_score += val \n",
    "    average_score = average_score / 3  \n",
    "    print(\"{:.2f}\".format(average_score))\n"
   ]
  },
  {
   "cell_type": "markdown",
   "metadata": {},
   "source": [
    "### Lists"
   ]
  },
  {
   "cell_type": "code",
   "execution_count": null,
   "metadata": {},
   "outputs": [],
   "source": [
    "if __name__ == '__main__':\n",
    "    N = int(input())\n",
    "    my_list = []\n",
    "    for _ in range(N-1):\n",
    "        command, *val = input().split()\n",
    "        values = list(map(int, val))\n",
    "        if command == \"insert\":\n",
    "            my_list.insert(values[0], values[1])\n",
    "        elif command == \"print\":\n",
    "            print(my_list)\n",
    "        elif command == \"remove\":\n",
    "            my_list.remove(values[0])\n",
    "        elif command == \"append\":\n",
    "            my_list.append(values[0])\n",
    "        elif command == \"sort\":\n",
    "            my_list.sort()\n",
    "        elif command == \"pop\":\n",
    "            my_list.pop()\n",
    "        elif command == \"reverse\":\n",
    "            my_list.reverse()\n",
    "    print(my_list)\n",
    "            "
   ]
  },
  {
   "cell_type": "markdown",
   "metadata": {},
   "source": [
    "### Tuples"
   ]
  },
  {
   "cell_type": "code",
   "execution_count": null,
   "metadata": {},
   "outputs": [],
   "source": [
    "if __name__ == '__main__':\n",
    "    n = int(input())\n",
    "    integer_list = map(int, input().split())\n",
    "    t = tuple(integer_list)\n",
    "    print(hash(t))\n"
   ]
  },
  {
   "cell_type": "markdown",
   "metadata": {},
   "source": [
    "### sWAP cASE"
   ]
  },
  {
   "cell_type": "code",
   "execution_count": null,
   "metadata": {},
   "outputs": [],
   "source": [
    "def swap_case(s):\n",
    "    s1 = \"\"\n",
    "    for char in s:\n",
    "        if char.islower():\n",
    "            s1 += char.upper()\n",
    "        elif char.isupper():\n",
    "            s1 += char.lower()     \n",
    "        else:\n",
    "            s1 += char\n",
    "    return s1\n",
    "\n",
    "if __name__ == '__main__':\n",
    "    s = input()\n",
    "    result = swap_case(s)\n",
    "    print(result)"
   ]
  },
  {
   "cell_type": "markdown",
   "metadata": {},
   "source": [
    "### String Split and Join"
   ]
  },
  {
   "cell_type": "code",
   "execution_count": null,
   "metadata": {},
   "outputs": [],
   "source": [
    "def split_and_join(line):\n",
    "    line = line.split(\" \")\n",
    "    line = \"-\".join(line)\n",
    "    return line\n",
    "\n",
    "if __name__ == '__main__':\n",
    "    line = input()\n",
    "    result = split_and_join(line)\n",
    "    print(result)"
   ]
  },
  {
   "cell_type": "markdown",
   "metadata": {},
   "source": [
    "### What's Your Name?"
   ]
  },
  {
   "cell_type": "code",
   "execution_count": null,
   "metadata": {},
   "outputs": [],
   "source": [
    "def print_full_name(first, last):\n",
    "    print(\"Hello %s %s! You just delved into python.\" %(first, last))\n",
    "\n",
    "if __name__ == '__main__':\n",
    "    first_name = input()\n",
    "    last_name = input()\n",
    "    print_full_name(first_name, last_name)"
   ]
  },
  {
   "cell_type": "markdown",
   "metadata": {},
   "source": [
    "### Mutations"
   ]
  },
  {
   "cell_type": "code",
   "execution_count": null,
   "metadata": {},
   "outputs": [],
   "source": [
    "def mutate_string(string, position, character):\n",
    "    l = list(string)\n",
    "    l[position] = character\n",
    "    string = ''.join(l)\n",
    "    return string\n",
    "\n",
    "if __name__ == '__main__':\n",
    "    s = input()\n",
    "    i, c = input().split()\n",
    "    s_new = mutate_string(s, int(i), c)\n",
    "    print(s_new)"
   ]
  },
  {
   "cell_type": "markdown",
   "metadata": {},
   "source": [
    "### Find a string"
   ]
  },
  {
   "cell_type": "code",
   "execution_count": null,
   "metadata": {},
   "outputs": [],
   "source": [
    "def count_substring(string, sub_string):\n",
    "    count = 0\n",
    "    for i in range(0, len(string)-len(sub_string)+1):\n",
    "        if string[i:i+len(sub_string)] == sub_string:\n",
    "            count += 1\n",
    "    return count\n",
    "\n",
    "if __name__ == '__main__':\n",
    "    string = input().strip()\n",
    "    sub_string = input().strip()\n",
    "    \n",
    "    count = count_substring(string, sub_string)\n",
    "    print(count)"
   ]
  },
  {
   "cell_type": "markdown",
   "metadata": {},
   "source": [
    "### String Validators"
   ]
  },
  {
   "cell_type": "code",
   "execution_count": null,
   "metadata": {},
   "outputs": [],
   "source": [
    "if __name__ == '__main__':\n",
    "    s = input()\n",
    "    \n",
    "    has_alfanum = any(char.isalnum() for char in s)\n",
    "    if has_alfanum: print(True)\n",
    "    else: print(False)\n",
    "    \n",
    "    has_alpha = any(char.isalpha() for char in s)\n",
    "    if has_alpha: print(True)\n",
    "    else: print(False)\n",
    "    \n",
    "    has_digit = any(char.isdigit() for char in s)\n",
    "    if has_digit: print(True)\n",
    "    else: print(False)\n",
    "    \n",
    "    has_lower = any(char.islower() for char in s)\n",
    "    if has_lower: print(True)\n",
    "    else: print(False)\n",
    "    \n",
    "    has_upper = any(char.isupper() for char in s)\n",
    "    if has_upper: print(True)\n",
    "    else: print(False)"
   ]
  },
  {
   "cell_type": "markdown",
   "metadata": {},
   "source": [
    "### Text Wrap"
   ]
  },
  {
   "cell_type": "code",
   "execution_count": null,
   "metadata": {},
   "outputs": [],
   "source": [
    "import textwrap\n",
    "\n",
    "def wrap(string, max_width):\n",
    "    strings = [string[i:i+max_width] for i in range(0, len(string), max_width)]\n",
    "    string = '\\n'.join(strings)\n",
    "    return string\n",
    "\n",
    "if __name__ == '__main__':\n",
    "    string, max_width = input(), int(input())\n",
    "    result = wrap(string, max_width)\n",
    "    print(result)"
   ]
  },
  {
   "cell_type": "markdown",
   "metadata": {},
   "source": [
    "### String Formatting"
   ]
  },
  {
   "cell_type": "code",
   "execution_count": null,
   "metadata": {},
   "outputs": [],
   "source": [
    "def print_formatted(number):\n",
    "    width = len(bin(number))-2 \n",
    "    for i in range(1, number+1):\n",
    "        print(f\"{i:>{width}} {oct(i)[2:]:>{width}} {hex(i)[2:].upper():>{width}} {bin(i)[2:]:>{width}}\")\n",
    "\n",
    "if __name__ == '__main__':\n",
    "    n = int(input())\n",
    "    print_formatted(n)"
   ]
  },
  {
   "cell_type": "markdown",
   "metadata": {},
   "source": [
    "### Capitalize!"
   ]
  },
  {
   "cell_type": "code",
   "execution_count": null,
   "metadata": {},
   "outputs": [],
   "source": [
    "def solve(s):\n",
    "    full_name = re.split(r'(\\s+)', s)\n",
    "    final_name = []\n",
    "    for name in full_name:\n",
    "        cap_name = name[0].upper() + name[1:]\n",
    "        final_name.append(cap_name)\n",
    "    final_name = ''.join(final_name)\n",
    "    return final_name\n",
    "\n",
    "if __name__ == '__main__':\n",
    "    fptr = open(os.environ['OUTPUT_PATH'], 'w')\n",
    "\n",
    "    s = input()\n",
    "\n",
    "    result = solve(s)\n",
    "\n",
    "    fptr.write(result + '\\n')\n",
    "\n",
    "    fptr.close()\n"
   ]
  },
  {
   "cell_type": "markdown",
   "metadata": {},
   "source": [
    "### The Minion Game"
   ]
  },
  {
   "cell_type": "code",
   "execution_count": null,
   "metadata": {},
   "outputs": [],
   "source": [
    "def minion_game(string):\n",
    "    vowels = \"AEIOU\" #for Kevin\n",
    "    consonants = 'BCDFGHJKLMNPQRSTVWYXZ' #for Stuart\n",
    "    player1 = \"Kevin\"\n",
    "    player2 = \"Stuart\"\n",
    "    \n",
    "    count_kevin = 0\n",
    "    count_stuart = 0\n",
    "    \n",
    "    # loop for Kevin\n",
    "    for i in range(len(string)):\n",
    "        if string[i] in vowels:\n",
    "            count_kevin += len(string) - i\n",
    "    # loop for Stuart\n",
    "    for i in range(len(string)):\n",
    "        if string[i] in consonants:\n",
    "            count_stuart += len(string) - i\n",
    "            \n",
    "    if count_kevin > count_stuart:\n",
    "        print(player1, count_kevin)\n",
    "    elif count_kevin < count_stuart:\n",
    "        print(player2, count_stuart)\n",
    "    else: print(\"Draw\")\n",
    "\n",
    "if __name__ == '__main__':\n",
    "    s = input()\n",
    "    minion_game(s)"
   ]
  },
  {
   "cell_type": "markdown",
   "metadata": {},
   "source": [
    "### Merge the Tools!"
   ]
  },
  {
   "cell_type": "code",
   "execution_count": null,
   "metadata": {},
   "outputs": [],
   "source": [
    "def merge_the_tools(string, k):\n",
    "    substrings = [string[i:i+k] for i in range(0, len(string), k)]\n",
    "    for substring in substrings:\n",
    "        substring = ''.join(dict.fromkeys(substring))\n",
    "        print(substring)\n",
    "\n",
    "if __name__ == '__main__':\n",
    "    string, k = input(), int(input())\n",
    "    merge_the_tools(string, k)"
   ]
  },
  {
   "cell_type": "markdown",
   "metadata": {},
   "source": [
    "### Introduction to Sets"
   ]
  },
  {
   "cell_type": "code",
   "execution_count": null,
   "metadata": {},
   "outputs": [],
   "source": [
    "def average(array):\n",
    "    sum = 0\n",
    "    new_set = set(array)\n",
    "    for el in new_set:\n",
    "        sum += el\n",
    "    return sum / len(new_set)\n",
    "\n",
    "\n",
    "if __name__ == '__main__':\n",
    "    n = int(input())\n",
    "    arr = list(map(int, input().split()))\n",
    "    result = average(arr)\n",
    "    print(result)"
   ]
  },
  {
   "cell_type": "markdown",
   "metadata": {},
   "source": [
    "### Symmetric Difference"
   ]
  },
  {
   "cell_type": "code",
   "execution_count": null,
   "metadata": {},
   "outputs": [],
   "source": [
    "if __name__ == '__main__':\n",
    "    n = int(input())\n",
    "    N = set(map(int, input().split()))\n",
    "    m = int(input())\n",
    "    M = set(map(int, input().split()))\n",
    "    \n",
    "    inter = N.intersection(M)\n",
    "    a = N - inter\n",
    "    b = M - inter\n",
    "    result = a.union(b)\n",
    "    final = list(result)\n",
    "    final.sort()\n",
    "    for el in final:\n",
    "        print(el)"
   ]
  },
  {
   "cell_type": "markdown",
   "metadata": {},
   "source": [
    "### No Idea!"
   ]
  },
  {
   "cell_type": "code",
   "execution_count": null,
   "metadata": {},
   "outputs": [],
   "source": [
    "if __name__ == '__main__':\n",
    "    n, m = input().split()\n",
    "    arr = list(map(int, input().split()))\n",
    "    A = set(map(int, input().split()))\n",
    "    B = set(map(int, input().split()))\n",
    "    happiness = 0 \n",
    "\n",
    "    # check elements of A and B are part of arr\n",
    "    for el in arr:\n",
    "        if el in A:\n",
    "            happiness +=1\n",
    "        elif el in B:\n",
    "            happiness -=1\n",
    "        else: happiness += 0\n",
    "    print(happiness)\n"
   ]
  },
  {
   "cell_type": "markdown",
   "metadata": {},
   "source": [
    "### Set .add()"
   ]
  },
  {
   "cell_type": "code",
   "execution_count": null,
   "metadata": {},
   "outputs": [],
   "source": [
    "if __name__ == '__main__':\n",
    "    N = int(input())\n",
    "    dic = set()\n",
    "    for i in range(N):\n",
    "        country = input()\n",
    "        dic.add(country)\n",
    "    print(len(dic))\n",
    "       "
   ]
  },
  {
   "cell_type": "markdown",
   "metadata": {},
   "source": [
    "### Set .union() Operation"
   ]
  },
  {
   "cell_type": "code",
   "execution_count": null,
   "metadata": {},
   "outputs": [],
   "source": [
    "if __name__ == '__main__':\n",
    "    n = int(input())\n",
    "    english = set(map(int, input().split()))\n",
    "    b = int(input())\n",
    "    french = set(map(int, input().split()))\n",
    "    any_sub = english.union(french)\n",
    "    print(len(any_sub))"
   ]
  },
  {
   "cell_type": "markdown",
   "metadata": {},
   "source": [
    "### Set .intersection() Operation"
   ]
  },
  {
   "cell_type": "code",
   "execution_count": null,
   "metadata": {},
   "outputs": [],
   "source": [
    "if __name__ == '__main__':\n",
    "    n = int(input())\n",
    "    english = set(map(int, input().split()))\n",
    "    b = int(input())\n",
    "    french = set(map(int, input().split()))\n",
    "    res = english.intersection(french)\n",
    "    print(len(res))\n",
    "    "
   ]
  },
  {
   "cell_type": "markdown",
   "metadata": {},
   "source": [
    "### Set .difference() Operation"
   ]
  },
  {
   "cell_type": "code",
   "execution_count": null,
   "metadata": {},
   "outputs": [],
   "source": [
    "if __name__ == \"__main__\":\n",
    "    n = int(input())\n",
    "    english = set(map(int, input().split()))\n",
    "    m = int(input())\n",
    "    french = set(map(int, input().split()))\n",
    "    only_en = english.difference(french)\n",
    "    print(len(only_en))"
   ]
  },
  {
   "cell_type": "markdown",
   "metadata": {},
   "source": [
    "### Set .symmetric_difference() Operation"
   ]
  },
  {
   "cell_type": "code",
   "execution_count": null,
   "metadata": {},
   "outputs": [],
   "source": [
    "if __name__ == \"__main__\":\n",
    "    n = int(input())\n",
    "    en = set(map(int, input().split()))\n",
    "    m = int(input())\n",
    "    fr = set(map(int, input().split()))\n",
    "    either = en.symmetric_difference(fr)\n",
    "    print(len(either))"
   ]
  },
  {
   "cell_type": "markdown",
   "metadata": {},
   "source": [
    "### Set .discard(), .remove() & .pop()"
   ]
  },
  {
   "cell_type": "code",
   "execution_count": null,
   "metadata": {},
   "outputs": [],
   "source": [
    "if __name__ == '__main__':\n",
    "    n = int(input())\n",
    "    dic = set(map(int, input().split()))\n",
    "    n_com = int(input())\n",
    "    my_sum = 0\n",
    "    for _ in range(n_com):\n",
    "        com = input().split()\n",
    "        if com[0] == \"pop\":\n",
    "            if len(dic)!=0:\n",
    "                dic.remove(list(dic)[0])\n",
    "        elif com[0] == \"remove\":\n",
    "            if int(com[1]) in dic:\n",
    "                dic.remove(int(com[1]))\n",
    "        elif com[0] == \"discard\":\n",
    "            dic.discard(int(com[1]))\n",
    "    for el in dic:\n",
    "        my_sum += el\n",
    "    print(my_sum)\n"
   ]
  },
  {
   "cell_type": "markdown",
   "metadata": {},
   "source": [
    "### Set Mutations"
   ]
  },
  {
   "cell_type": "code",
   "execution_count": null,
   "metadata": {},
   "outputs": [],
   "source": [
    "if __name__ == '__main__':\n",
    "    n = int(input())\n",
    "    A = set(map(int, input().split()))\n",
    "    N = int(input())\n",
    "    my_sum = 0\n",
    "    for _ in range(N):\n",
    "        op = input().split()\n",
    "        other_set = set(map(int, input().split()))\n",
    "        if op[0] == \"intersection_update\":\n",
    "           A.intersection_update(other_set)\n",
    "        elif op[0] ==  \"update\":\n",
    "            A.update(other_set)\n",
    "        elif op[0] == \"symmetric_difference_update\":\n",
    "            A.symmetric_difference_update(other_set)\n",
    "        elif op[0] == \"difference_update\":\n",
    "            A.difference_update(other_set)\n",
    "    for el in A:\n",
    "        my_sum += el\n",
    "    print(my_sum)\n"
   ]
  },
  {
   "cell_type": "markdown",
   "metadata": {},
   "source": [
    "### The Captain's Room"
   ]
  },
  {
   "cell_type": "code",
   "execution_count": null,
   "metadata": {},
   "outputs": [],
   "source": [
    "if __name__ == \"__main__\":\n",
    "    K = int(input())\n",
    "    rooms = list(map(int, input().split()))\n",
    "    dic = {}\n",
    "    for num in rooms:\n",
    "        if num in dic:\n",
    "            dic[num] += 1\n",
    "        else: dic[num] = 1\n",
    "    for num, c in dic.items():\n",
    "        if c == 1:\n",
    "            print(num)"
   ]
  },
  {
   "cell_type": "markdown",
   "metadata": {},
   "source": [
    "### Check Subset"
   ]
  },
  {
   "cell_type": "code",
   "execution_count": null,
   "metadata": {},
   "outputs": [],
   "source": [
    "if __name__ == '__main__':\n",
    "    test_cases = int(input())\n",
    "    for _ in range(test_cases):\n",
    "        na = int(input())\n",
    "        A = set(map(int, input().split()))\n",
    "        nb = int(input())\n",
    "        B = set(map(int, input().split()))\n",
    "        print(A.issubset(B))"
   ]
  },
  {
   "cell_type": "markdown",
   "metadata": {},
   "source": [
    "### Check Strict Superset"
   ]
  },
  {
   "cell_type": "code",
   "execution_count": null,
   "metadata": {},
   "outputs": [],
   "source": [
    "if __name__ == '__main__':\n",
    "    l_bool = []\n",
    "    A = set(map(int, input().split()))\n",
    "    n = int(input())\n",
    "    for _ in range(n):\n",
    "        other = set(map(int, input().split()))\n",
    "        l_bool.append(A > other)\n",
    "    if False in l_bool:\n",
    "        print(False)\n",
    "    else: print(True)"
   ]
  },
  {
   "cell_type": "markdown",
   "metadata": {},
   "source": [
    "### collections.Counter()"
   ]
  },
  {
   "cell_type": "code",
   "execution_count": null,
   "metadata": {},
   "outputs": [],
   "source": [
    "from collections import Counter \n",
    "\n",
    "if __name__ == '__main__':\n",
    "    nshoe = int(input())\n",
    "    shoe_sizes = list(map(int, input().split()))\n",
    "    ncustomers = int(input())\n",
    "    c = Counter(shoe_sizes)\n",
    "    my_sum = 0\n",
    "    for _ in range(ncustomers):\n",
    "        customers = list(map(int, input().split()))\n",
    "        if c[customers[0]] > 0:\n",
    "            my_sum += customers[1]\n",
    "            c[customers[0]] -= 1\n",
    "        else: continue\n",
    "    print(my_sum)\n",
    "    "
   ]
  },
  {
   "cell_type": "markdown",
   "metadata": {},
   "source": [
    "### DefaultDict Tutorial"
   ]
  },
  {
   "cell_type": "code",
   "execution_count": null,
   "metadata": {},
   "outputs": [],
   "source": [
    "from collections import defaultdict\n",
    "\n",
    "if __name__ == '__main__':\n",
    "    n, m = map(int, input().split())\n",
    "    A = []\n",
    "    B = []\n",
    "    dic = defaultdict(list)\n",
    "    for _ in range(n):\n",
    "        A.append(input())\n",
    "    for _ in range(m):\n",
    "        B.append(input())\n",
    "    for index, el in enumerate(A):\n",
    "        dic[el].append(index+1)\n",
    "    for el in B:\n",
    "        if el in dic.keys():\n",
    "            print(\" \".join(map(str, dic[el])))\n",
    "        else:\n",
    "            print(-1)\n"
   ]
  },
  {
   "cell_type": "markdown",
   "metadata": {},
   "source": [
    "### Collections.OrderedDict()"
   ]
  },
  {
   "cell_type": "code",
   "execution_count": null,
   "metadata": {},
   "outputs": [],
   "source": [
    "from collections import OrderedDict\n",
    "\n",
    "item_orderedDict = OrderedDict()\n",
    "\n",
    "N = int(input())\n",
    "for _ in range(N):\n",
    "    item_name, net_price = input().rsplit(' ', 1)\n",
    "    item_orderedDict[item_name] = item_orderedDict.get(item_name, 0) + int(net_price)\n",
    "    \n",
    "for k, v in item_orderedDict.items():\n",
    "    print(f\"{k} {v}\")"
   ]
  },
  {
   "cell_type": "markdown",
   "metadata": {},
   "source": [
    "### Word Order"
   ]
  },
  {
   "cell_type": "code",
   "execution_count": null,
   "metadata": {},
   "outputs": [],
   "source": [
    "N = int(input())\n",
    "word_dict = dict()\n",
    "appearance_list = list()\n",
    "\n",
    "for _ in range(N):\n",
    "    word = input()\n",
    "    if (word not in word_dict):\n",
    "        appearance_list.append(word)\n",
    "    word_dict[word] = word_dict.get(word, 0) + 1\n",
    "        \n",
    "print(len(word_dict))\n",
    "print(*[word_dict[word] for word in appearance_list])"
   ]
  },
  {
   "cell_type": "markdown",
   "metadata": {},
   "source": [
    "### Collections.namedtuple()"
   ]
  },
  {
   "cell_type": "code",
   "execution_count": null,
   "metadata": {},
   "outputs": [],
   "source": [
    "from collections import namedtuple\n",
    "\n",
    "if __name__ == '__main__':\n",
    "    n = int(input())\n",
    "    cols = input().split()\n",
    "    summ = 0        \n",
    "    Student = namedtuple('Student', ' '.join(cols))\n",
    "    for _ in range(n):\n",
    "        line = input().split()\n",
    "        dic = {cols[0]: line[0], cols[1]:line[1], cols[2]:line[2], cols[3]:line[3]}\n",
    "        s = Student(**dic)\n",
    "        summ += int(s.MARKS)\n",
    "        avr = summ / n\n",
    "    print(f\"{avr:.2f}\")"
   ]
  },
  {
   "cell_type": "markdown",
   "metadata": {},
   "source": [
    "### Calendar Module"
   ]
  },
  {
   "cell_type": "code",
   "execution_count": null,
   "metadata": {},
   "outputs": [],
   "source": [
    "import calendar\n",
    "\n",
    "if __name__ == '__main__':\n",
    "    full_date = list(map(int, input().split()))\n",
    "    #cal = calendar.TextCalendar(firstweekday=6)\n",
    "    wday = calendar.weekday(full_date[2], full_date[0], full_date[1])\n",
    "    if wday == 0:\n",
    "        print('MONDAY')\n",
    "    if wday == 1:\n",
    "        print('TUESDAY')\n",
    "    if wday == 2:\n",
    "        print('WEDNESDAY')\n",
    "    if wday == 3:\n",
    "        print('THURSDAY')\n",
    "    if wday == 4:\n",
    "        print('FRIDAY')\n",
    "    if wday == 5:\n",
    "        print('SATURDAY')\n",
    "    if wday == 6:\n",
    "        print('SUNDAY')"
   ]
  },
  {
   "cell_type": "markdown",
   "metadata": {},
   "source": [
    "### Exceptions"
   ]
  },
  {
   "cell_type": "code",
   "execution_count": null,
   "metadata": {},
   "outputs": [],
   "source": [
    "if __name__ == '__main__':\n",
    "    cases = int(input())\n",
    "    for _ in range(cases):\n",
    "        ints = input().split()\n",
    "        try:\n",
    "            print(int(ints[0])//int(ints[1]))\n",
    "        except ZeroDivisionError as e:\n",
    "            print('Error Code:', e)\n",
    "        except ValueError as e:\n",
    "            print('Error Code:', e)"
   ]
  },
  {
   "cell_type": "markdown",
   "metadata": {},
   "source": [
    "### Collections.deque()"
   ]
  },
  {
   "cell_type": "code",
   "execution_count": null,
   "metadata": {},
   "outputs": [],
   "source": [
    "from collections import deque\n",
    "\n",
    "d = deque()\n",
    "command_list = list()\n",
    "\n",
    "N = int(input())\n",
    "\n",
    "for _ in range(N):\n",
    "    command = input().split()\n",
    "    if (len(command) == 1):\n",
    "        command_list.append(command[0])\n",
    "    elif (len(command) == 2):\n",
    "        command_list.append(tuple(command))\n",
    "\n",
    "for command in command_list:\n",
    "    if isinstance(command, tuple):\n",
    "        comm, value = command[0], command[1]\n",
    "        method = getattr(d, comm, None)\n",
    "        method(value)\n",
    "    else:\n",
    "        method = getattr(d, command, None)\n",
    "        method()\n",
    "        \n",
    "print(*d)\n"
   ]
  },
  {
   "cell_type": "markdown",
   "metadata": {},
   "source": [
    "### Map and Lambda Function"
   ]
  },
  {
   "cell_type": "code",
   "execution_count": null,
   "metadata": {},
   "outputs": [],
   "source": [
    "cube = lambda x: pow(x, 3)\n",
    "\n",
    "def fibonacci(n):\n",
    "    f_list = []\n",
    "    num1 = 0\n",
    "    num2 = 1\n",
    "    next_number = num2  \n",
    "    count = 1\n",
    "    while count <= n:\n",
    "        f_list.append(num1)\n",
    "        count += 1\n",
    "        num1, num2 = num2, next_number\n",
    "        next_number = num1 + num2\n",
    "    return f_list\n",
    "\n",
    "if __name__ == '__main__':\n",
    "    n = int(input())\n",
    "    print(list(map(cube, fibonacci(n))))"
   ]
  },
  {
   "cell_type": "markdown",
   "metadata": {},
   "source": [
    "### Arrays"
   ]
  },
  {
   "cell_type": "code",
   "execution_count": null,
   "metadata": {},
   "outputs": [],
   "source": [
    "import numpy\n",
    "\n",
    "def arrays(arr):\n",
    "    arr = numpy.array(arr, float)\n",
    "    return arr[::-1]\n",
    "\n",
    "arr = input().strip().split(' ')\n",
    "result = arrays(arr)\n",
    "print(result)"
   ]
  },
  {
   "cell_type": "markdown",
   "metadata": {},
   "source": [
    "### Company Logo"
   ]
  },
  {
   "cell_type": "code",
   "execution_count": null,
   "metadata": {},
   "outputs": [],
   "source": [
    "import re\n",
    "\n",
    "if __name__ == '__main__':\n",
    "    letters_occurrences = dict()\n",
    "    s = input()\n",
    "    letter_list = re.findall(r'.', s)\n",
    "    for letter in letter_list:\n",
    "        letters_occurrences[letter] = letters_occurrences.get(letter, 0) + 1\n",
    "        \n",
    "    letters_occurrences = dict(sorted(letters_occurrences.items(), key=lambda item: (-item[1], item[0])))\n",
    "    \n",
    "    i = 0\n",
    "    for k, v in letters_occurrences.items():\n",
    "        if i == 3: \n",
    "            break\n",
    "        print(f\"{k} {v}\")\n",
    "        i += 1\n",
    "    \n",
    "    "
   ]
  },
  {
   "cell_type": "markdown",
   "metadata": {},
   "source": [
    "### Shape and Reshape"
   ]
  },
  {
   "cell_type": "code",
   "execution_count": null,
   "metadata": {},
   "outputs": [],
   "source": [
    "import numpy\n",
    "\n",
    "if __name__ == '__main__':\n",
    "    l = list(map(int, input().split()))\n",
    "    arr = numpy.array(l)\n",
    "    print(numpy.reshape(arr, (3,3)))"
   ]
  },
  {
   "cell_type": "markdown",
   "metadata": {},
   "source": [
    "### Transpose and Flatten"
   ]
  },
  {
   "cell_type": "code",
   "execution_count": null,
   "metadata": {},
   "outputs": [],
   "source": [
    "import numpy\n",
    "if __name__ == '__main__':\n",
    "    n, m = input().split()\n",
    "    n = int(n)\n",
    "    m = int(m)\n",
    "    l = []\n",
    "    for _ in range(n):\n",
    "        l.append(list(map(int, input().split())))\n",
    "    arr = numpy.array(l)\n",
    "    tr = numpy.transpose(arr)\n",
    "    print(tr)\n",
    "    print(arr.flatten())\n"
   ]
  },
  {
   "cell_type": "markdown",
   "metadata": {},
   "source": [
    "### Concatenate"
   ]
  },
  {
   "cell_type": "code",
   "execution_count": null,
   "metadata": {},
   "outputs": [],
   "source": [
    "import numpy\n",
    "if __name__ == '__main__':\n",
    "    n, m, p = input().split()\n",
    "    n = int(n)\n",
    "    m = int(m)\n",
    "    p = int(p)\n",
    "    arr = numpy.empty((n, p))\n",
    "    arr1 = numpy.empty((m, p))\n",
    "    for i in range(n):\n",
    "        l = numpy.array(map(int, input().split()))\n",
    "        numpy.append(arr, l)\n",
    "    for i in range(m):\n",
    "        l1 = numpy.array(map(int, input().split()))\n",
    "        numpy.append(arr1, l1)\n",
    "    print(numpy.concatenate((arr, arr1), axis=0))\n",
    "    \n"
   ]
  },
  {
   "cell_type": "markdown",
   "metadata": {},
   "source": [
    "### Zeros and Ones"
   ]
  },
  {
   "cell_type": "code",
   "execution_count": null,
   "metadata": {},
   "outputs": [],
   "source": [
    "import numpy\n",
    "if __name__ == '__main__':\n",
    "    dim = tuple(map(int, input().split()))\n",
    "    zeros = numpy.zeros(dim, dtype=int)\n",
    "    ones = numpy.ones(dim, dtype=int)\n",
    "    print(zeros)\n",
    "    print(ones)\n"
   ]
  },
  {
   "cell_type": "markdown",
   "metadata": {},
   "source": [
    "### Eye and Identity"
   ]
  },
  {
   "cell_type": "code",
   "execution_count": null,
   "metadata": {},
   "outputs": [],
   "source": [
    "import numpy\n",
    "numpy.set_printoptions(legacy='1.13')\n",
    "if __name__ == '__main__':\n",
    "    dim = tuple(map(int, input().split()))\n",
    "    final = numpy.eye(dim[0], dim[1], k=0)\n",
    "    print(final)"
   ]
  },
  {
   "cell_type": "markdown",
   "metadata": {},
   "source": [
    "### Array Mathematics"
   ]
  },
  {
   "cell_type": "code",
   "execution_count": null,
   "metadata": {},
   "outputs": [],
   "source": [
    "import numpy\n",
    "if __name__ == '__main__':\n",
    "    dim = tuple(map(int, input().split()))\n",
    "    n, m = dim[0], dim[1]\n",
    "    A = []\n",
    "    B = []\n",
    "    for _ in range(n):\n",
    "        A.append(list(map(int, input().split())))\n",
    "    for _ in range(n):\n",
    "        B.append(list(map(int, input().split())))\n",
    "    A_arr = numpy.array(A)\n",
    "    B_arr = numpy.array(B)\n",
    "    print(numpy.add(A_arr, B_arr))\n",
    "    print(numpy.subtract(A_arr, B_arr))\n",
    "    print(numpy.multiply(A_arr, B_arr))\n",
    "    print(numpy.floor_divide(A_arr, B_arr))\n",
    "    print(numpy.mod(A_arr, B_arr))\n",
    "    print(numpy.power(A_arr, B_arr))"
   ]
  },
  {
   "cell_type": "markdown",
   "metadata": {},
   "source": [
    "### Floor, Ceil and Rint"
   ]
  },
  {
   "cell_type": "code",
   "execution_count": null,
   "metadata": {},
   "outputs": [],
   "source": [
    "import numpy\n",
    "numpy.set_printoptions(legacy='1.13')\n",
    "\n",
    "if __name__ == '__main__':\n",
    "    l = list(map(float, input().split(' ')))\n",
    "    arr = numpy.array(l)\n",
    "    print(numpy.floor(arr))\n",
    "    print(numpy.ceil(arr))\n",
    "    print(numpy.rint(arr))\n",
    "    "
   ]
  },
  {
   "cell_type": "markdown",
   "metadata": {},
   "source": [
    "### Sum and Prod"
   ]
  },
  {
   "cell_type": "code",
   "execution_count": null,
   "metadata": {},
   "outputs": [],
   "source": [
    "import numpy\n",
    "if __name__ == '__main__':\n",
    "    dim = tuple(map(int, input().split()))\n",
    "    n = dim[0]\n",
    "    m = dim[1]\n",
    "    \n",
    "    l = []\n",
    "    for _ in range(n):\n",
    "       l.append(list(map(int, input().split())))\n",
    "    arr = numpy.array(l)\n",
    "    summ = numpy.sum(arr, axis=0)\n",
    "    print(numpy.prod(summ, axis=None))\n"
   ]
  },
  {
   "cell_type": "markdown",
   "metadata": {},
   "source": [
    "### Min and Max"
   ]
  },
  {
   "cell_type": "code",
   "execution_count": null,
   "metadata": {},
   "outputs": [],
   "source": [
    "import numpy\n",
    "if __name__ == '__main__':\n",
    "    dim = tuple(map(int, input().split()))\n",
    "    n = dim[0]\n",
    "    m = dim[1]\n",
    "    \n",
    "    l = []\n",
    "    for _ in range(n):\n",
    "       l.append(list(map(int, input().split())))\n",
    "    arr = numpy.array(l)\n",
    "    minn = numpy.min(arr, axis=1)\n",
    "    print(numpy.max(minn, axis=None))\n"
   ]
  },
  {
   "cell_type": "markdown",
   "metadata": {},
   "source": [
    "### Mean, Var, and Std"
   ]
  },
  {
   "cell_type": "code",
   "execution_count": null,
   "metadata": {},
   "outputs": [],
   "source": [
    "import numpy\n",
    "if __name__ == '__main__':\n",
    "    dim = tuple(map(int, input().split()))\n",
    "    n = dim[0]\n",
    "    m = dim[1]\n",
    "    \n",
    "    l = []\n",
    "    for _ in range(n):\n",
    "       l.append(list(map(int, input().split())))\n",
    "    arr = numpy.array(l)\n",
    "    print(numpy.mean(arr, axis=1))\n",
    "    print(numpy.var(arr, axis=0))\n",
    "    std_dev = numpy.std(arr)\n",
    "    print(round(std_dev, 11))\n"
   ]
  },
  {
   "cell_type": "markdown",
   "metadata": {},
   "source": [
    "### Dot and Cross"
   ]
  },
  {
   "cell_type": "code",
   "execution_count": null,
   "metadata": {},
   "outputs": [],
   "source": [
    "import numpy\n",
    "if __name__ == '__main__':\n",
    "    n = int(input())\n",
    "    A = []\n",
    "    B = []\n",
    "    for _ in range(n):\n",
    "       A.append(list(map(int, input().split())))\n",
    "    arr_a = numpy.array(A)\n",
    "    for _ in range(n):\n",
    "       B.append(list(map(int, input().split())))\n",
    "    arr_b = numpy.array(B)\n",
    "    print(numpy.dot(arr_a, arr_b))\n"
   ]
  },
  {
   "cell_type": "markdown",
   "metadata": {},
   "source": [
    "### Inner and Outer"
   ]
  },
  {
   "cell_type": "code",
   "execution_count": null,
   "metadata": {},
   "outputs": [],
   "source": [
    "import numpy\n",
    "if __name__ == '__main__':\n",
    "    B = []\n",
    "    A = list(map(int, input().split()))\n",
    "    arr_a = numpy.array(A)\n",
    "    B = list(map(int, input().split()))\n",
    "    arr_b = numpy.array(B)\n",
    "    \n",
    "    print(numpy.inner(arr_a, arr_b))\n",
    "    print(numpy.outer(arr_a, arr_b))\n"
   ]
  },
  {
   "cell_type": "markdown",
   "metadata": {},
   "source": [
    "### Polynomials"
   ]
  },
  {
   "cell_type": "code",
   "execution_count": null,
   "metadata": {},
   "outputs": [],
   "source": [
    "import numpy\n",
    "if __name__ == '__main__':\n",
    "    A = list(map(float, input().split(' ')))\n",
    "    A_arr = numpy.array(A)\n",
    "    x = float(input())\n",
    "    print(numpy.polyval(A_arr, x))\n"
   ]
  },
  {
   "cell_type": "markdown",
   "metadata": {},
   "source": [
    "### Linear Algebra"
   ]
  },
  {
   "cell_type": "code",
   "execution_count": null,
   "metadata": {},
   "outputs": [],
   "source": [
    "import numpy\n",
    "if __name__ == '__main__':\n",
    "    n = int(input())\n",
    "    A = []\n",
    "    for _ in range(n):\n",
    "       A.append(list(map(float, input().split())))\n",
    "    arr_a = numpy.array(A)\n",
    "    det = numpy.linalg.det(arr_a)\n",
    "    print(round(det, 2))\n"
   ]
  },
  {
   "cell_type": "markdown",
   "metadata": {},
   "source": [
    "### Time Delta"
   ]
  },
  {
   "cell_type": "code",
   "execution_count": null,
   "metadata": {},
   "outputs": [],
   "source": [
    "import math\n",
    "import os\n",
    "import random\n",
    "import re\n",
    "import sys\n",
    "from dateutil import parser\n",
    "from datetime import timezone\n",
    "\n",
    "# Complete the time_delta function below.\n",
    "def time_delta(t1, t2):\n",
    "    dt1 = parser.parse(t1).astimezone(timezone.utc)\n",
    "    dt2 = parser.parse(t2).astimezone(timezone.utc)\n",
    "    diff_sec = abs(int((dt1 - dt2).total_seconds()))\n",
    "    return str(diff_sec)\n",
    "\n",
    "if __name__ == '__main__':\n",
    "    fptr = open(os.environ['OUTPUT_PATH'], 'w')\n",
    "    \n",
    "    t = int(input())\n",
    "    \n",
    "    for t_itr in range(t):\n",
    "        t1 = input()\n",
    "        t2 = input()\n",
    "        delta = time_delta(t1, t2)\n",
    "        fptr.write(delta + '\\n')\n",
    "    fptr.close()"
   ]
  },
  {
   "cell_type": "markdown",
   "metadata": {},
   "source": [
    "### Zipped!"
   ]
  },
  {
   "cell_type": "code",
   "execution_count": null,
   "metadata": {},
   "outputs": [],
   "source": [
    "if __name__ == '__main__':\n",
    "    # N students \n",
    "    # X subjects\n",
    "    n, x = input().split()\n",
    "    n = int(n)\n",
    "    x = int(x)\n",
    "    big_list = []\n",
    "    for _ in range(x):\n",
    "        big_list.append(list(map(float, input().split())))\n",
    "    zipped = zip(*big_list)\n",
    "    for z in zipped:\n",
    "        av = sum(z)/x\n",
    "        print(av)"
   ]
  },
  {
   "cell_type": "markdown",
   "metadata": {},
   "source": [
    "### XML 1 - Find the Score"
   ]
  },
  {
   "cell_type": "code",
   "execution_count": null,
   "metadata": {},
   "outputs": [],
   "source": [
    "import sys\n",
    "import xml.etree.ElementTree as etree\n",
    "\n",
    "def get_attr_number(node):\n",
    "    counter = 0\n",
    "    for child in node.iter():\n",
    "        counter += len(child.attrib)\n",
    "    return counter\n",
    "            \n",
    "\n",
    "if __name__ == '__main__':\n",
    "    sys.stdin.readline()\n",
    "    xml = sys.stdin.read()\n",
    "    tree = etree.ElementTree(etree.fromstring(xml))\n",
    "    root = tree.getroot()\n",
    "    print(get_attr_number(root))"
   ]
  },
  {
   "cell_type": "markdown",
   "metadata": {},
   "source": [
    "### XML2 - Find the Maximum Depth"
   ]
  },
  {
   "cell_type": "code",
   "execution_count": null,
   "metadata": {},
   "outputs": [],
   "source": [
    "import xml.etree.ElementTree as etree\n",
    "\n",
    "maxdepth = 0\n",
    "def depth(elem, level):\n",
    "    global maxdepth\n",
    "    for child in elem:\n",
    "        maxdepth = max(maxdepth, depth(child, level + 1))\n",
    "\n",
    "    maxdepth = max(maxdepth, level + 1)\n",
    "    return maxdepth\n",
    "\n",
    "if __name__ == '__main__':\n",
    "    n = int(input())\n",
    "    xml = \"\"\n",
    "    for i in range(n):\n",
    "        xml =  xml + input() + \"\\n\"\n",
    "    tree = etree.ElementTree(etree.fromstring(xml))\n",
    "    depth(tree.getroot(), -1)\n",
    "    print(maxdepth)"
   ]
  },
  {
   "cell_type": "markdown",
   "metadata": {},
   "source": [
    "### Standardize Mobile Number Using Decorators"
   ]
  },
  {
   "cell_type": "code",
   "execution_count": null,
   "metadata": {},
   "outputs": [],
   "source": [
    "def wrapper(f):\n",
    "    def fun(l):\n",
    "       f([\"+91 \" + num[-10:-5] + \" \" + num[-5:] for num in l])\n",
    "    return fun\n",
    "\n",
    "@wrapper\n",
    "def sort_phone(l):\n",
    "    print(*sorted(l), sep='\\n')\n",
    "\n",
    "if __name__ == '__main__':\n",
    "    l = [input() for _ in range(int(input()))]\n",
    "    sort_phone(l) "
   ]
  },
  {
   "cell_type": "markdown",
   "metadata": {},
   "source": [
    "### Decorators 2 - Name Directory"
   ]
  },
  {
   "cell_type": "code",
   "execution_count": null,
   "metadata": {},
   "outputs": [],
   "source": [
    "import operator\n",
    "\n",
    "def person_lister(f):\n",
    "    def inner(people):\n",
    "        return map(f, sorted(people, key = lambda person: int(person[2])))\n",
    "    return inner\n",
    "\n",
    "@person_lister\n",
    "def name_format(person):\n",
    "    return (\"Mr. \" if person[3] == \"M\" else \"Ms. \") + person[0] + \" \" + person[1]\n",
    "\n",
    "if __name__ == '__main__':\n",
    "    people = [input().split() for i in range(int(input()))]\n",
    "    print(*name_format(people), sep='\\n')"
   ]
  },
  {
   "cell_type": "markdown",
   "metadata": {},
   "source": [
    "### Athlete Sort"
   ]
  },
  {
   "cell_type": "code",
   "execution_count": null,
   "metadata": {},
   "outputs": [],
   "source": [
    "import math\n",
    "import os\n",
    "import random\n",
    "import re\n",
    "import sys\n",
    "\n",
    "\n",
    "\n",
    "if __name__ == '__main__':\n",
    "    first_multiple_input = input().rstrip().split()\n",
    "\n",
    "    n = int(first_multiple_input[0])\n",
    "\n",
    "    m = int(first_multiple_input[1])\n",
    "\n",
    "    arr = []\n",
    "\n",
    "    for _ in range(n):\n",
    "        arr.append(list(map(int, input().rstrip().split())))\n",
    "\n",
    "    k = int(input().strip())\n",
    "    arr = sorted(arr, key = lambda e: int(e[k]))\n",
    "    for el in arr:\n",
    "        print(' '.join(str(e) for e in el))\n"
   ]
  },
  {
   "cell_type": "markdown",
   "metadata": {},
   "source": [
    "### ginortS"
   ]
  },
  {
   "cell_type": "code",
   "execution_count": null,
   "metadata": {},
   "outputs": [],
   "source": [
    "if __name__ == '__main__':\n",
    "    s = list(input())\n",
    "\n",
    "    s.sort(key=lambda char: ( (char.isdigit() and int(char) % 2 == 0), (char.isdigit() and int(char) % 2 == 1), char.isupper(), char.islower(), char ) )\n",
    "    print(*s, sep='')"
   ]
  },
  {
   "cell_type": "markdown",
   "metadata": {},
   "source": [
    "### Piling Up!"
   ]
  },
  {
   "cell_type": "code",
   "execution_count": null,
   "metadata": {},
   "outputs": [],
   "source": [
    "import collections\n",
    "\n",
    "if __name__ == '__main__':\n",
    "    T = int(input())\n",
    "    for _ in range(T):\n",
    "        n_cubes = int(input())\n",
    "        sideLengths = collections.deque(map(int, input().split()))\n",
    "        stackable = True\n",
    "        \n",
    "        while len(sideLengths) != 1:\n",
    "            if sideLengths[0] >= sideLengths[1]:\n",
    "                sideLengths.popleft()\n",
    "                \n",
    "            elif sideLengths[-1] >= sideLengths[-2]:\n",
    "                sideLengths.pop()\n",
    "            \n",
    "            else:\n",
    "                stackable = False\n",
    "                break\n",
    "        if stackable: \n",
    "            print('Yes') \n",
    "        else: print('No')  "
   ]
  },
  {
   "cell_type": "markdown",
   "metadata": {},
   "source": [
    "### Text Alignment"
   ]
  },
  {
   "cell_type": "code",
   "execution_count": null,
   "metadata": {},
   "outputs": [],
   "source": [
    "if __name__ == '__main__':\n",
    "    thickness = int(input())\n",
    "    \n",
    "    # char to use in printout\n",
    "    char = \"H\"\n",
    "    \n",
    "    #Top\n",
    "    for i in range(thickness):\n",
    "        print((char*i).rjust(thickness-1)+char+(char*i).ljust(thickness-1))\n",
    "    for i in range(thickness+1):\n",
    "        print((char*thickness).center(thickness*2)+(char*thickness).center(thickness*6))\n",
    "\n",
    "    #Middle\n",
    "    for i in range((thickness+1)//2):\n",
    "        print((char*thickness*5).center(thickness*6))    \n",
    "\n",
    "    #Bottom \n",
    "    for i in range(thickness+1):\n",
    "        print((char*thickness).center(thickness*2)+(char*thickness).center(thickness*6))    \n",
    "    for i in range(thickness):\n",
    "        print(((char*(thickness-i-1)).rjust(thickness)+char+(char*(thickness-i-1)).ljust(thickness)).rjust(thickness*6))\n",
    "    \n"
   ]
  },
  {
   "cell_type": "markdown",
   "metadata": {},
   "source": [
    "### Designer Door Mat"
   ]
  },
  {
   "cell_type": "code",
   "execution_count": null,
   "metadata": {},
   "outputs": [],
   "source": [
    "if __name__ == '__main__':\n",
    "    N, M = input().split()\n",
    "    N = int(N)\n",
    "    M = int(M)\n",
    "    \n",
    "    for i in range(1,N,2): \n",
    "        print((i*'.|.').center(M,'-'))\n",
    "    print('WELCOME'.center(M,'-')) \n",
    "    for i in range(N-2,-1,-2): \n",
    "        print((i*'.|.').center(M, '-'))"
   ]
  },
  {
   "cell_type": "markdown",
   "metadata": {},
   "source": [
    "### Alphabet Rangoli"
   ]
  },
  {
   "cell_type": "code",
   "execution_count": null,
   "metadata": {},
   "outputs": [],
   "source": [
    "import string \n",
    "\n",
    "def print_rangoli(size):\n",
    "    alphabet = string.ascii_lowercase\n",
    "\n",
    "    for i in range(size - 1, 0, -1):\n",
    "        r = [\"-\"] * (size * 2 - 1)\n",
    "        for j in range(0, size - i):\n",
    "            r[size - 1 - j] = alphabet[j + i]\n",
    "            r[size - 1 + j] = alphabet[j + i]\n",
    "        print(\"-\".join(r))\n",
    "\n",
    "    for i in range(0, size):\n",
    "        r = [\"-\"] * (size * 2 - 1)\n",
    "        for j in range(0, size - i):\n",
    "            r[size - 1 - j] = alphabet[j + i]\n",
    "            r[size - 1 + j] = alphabet[j + i]\n",
    "        print(\"-\".join(r))\n",
    "\n",
    "if __name__ == '__main__':\n",
    "    n = int(input())\n",
    "    print_rangoli(n)"
   ]
  },
  {
   "cell_type": "markdown",
   "metadata": {},
   "source": [
    "### Detect Floating Point Number"
   ]
  },
  {
   "cell_type": "code",
   "execution_count": null,
   "metadata": {},
   "outputs": [],
   "source": [
    "import re\n",
    "\n",
    "if __name__ == '__main__':\n",
    "    T = int(input())\n",
    "    float_pattern = r'^[+-]?(\\d*\\.\\d+)([eE][-+]?\\d+)?$'\n",
    "    for _ in range(T):\n",
    "        my_input = input().strip()\n",
    "        if re.match(float_pattern, my_input):\n",
    "            print(True)\n",
    "        else: print(False)"
   ]
  },
  {
   "cell_type": "markdown",
   "metadata": {},
   "source": [
    "### Re.split()"
   ]
  },
  {
   "cell_type": "code",
   "execution_count": null,
   "metadata": {},
   "outputs": [],
   "source": [
    "regex_pattern = r\"[.,]\"\n",
    "\n",
    "import re\n",
    "print(\"\\n\".join(re.split(regex_pattern, input())))"
   ]
  },
  {
   "cell_type": "markdown",
   "metadata": {},
   "source": [
    "### Group(), Groups() & Groupdict()"
   ]
  },
  {
   "cell_type": "code",
   "execution_count": null,
   "metadata": {},
   "outputs": [],
   "source": [
    "import re\n",
    "\n",
    "if __name__ == '__main__':\n",
    "    my_input = input().strip()\n",
    "    regex_expr = r'([a-zA-Z0-9])\\1+'\n",
    "    res = re.search(regex_expr, my_input)\n",
    "    if res:\n",
    "        print(res.group(1))\n",
    "    else: \n",
    "        print(-1)"
   ]
  },
  {
   "cell_type": "markdown",
   "metadata": {},
   "source": [
    "### Re.findall() & Re.finditer()"
   ]
  },
  {
   "cell_type": "code",
   "execution_count": null,
   "metadata": {},
   "outputs": [],
   "source": [
    "import re\n",
    "if __name__ == '__main__':\n",
    "    vowels = 'aeiou'\n",
    "    vowels_upper = vowels.upper()\n",
    "    \n",
    "    consonants = 'QWRTYPSDFGHJKLZXCVBNM'\n",
    "    con_lw = consonants.lower()\n",
    "    \n",
    "    S = input()\n",
    "    while (S[len(S)-1] in vowels_upper) or (S[len(S) - 1] in vowels):\n",
    "        S = S[:-1]\n",
    "    \n",
    "    while (S[0] in vowels_upper) or(S[len(S) -1] in vowels):\n",
    "        S = S[1:]\n",
    "        \n",
    "    match = re.findall(r'[aeiou]{2,}', S, re.I)\n",
    "    if match:\n",
    "        print(*match, sep='\\n') \n",
    "    else: print(-1)\n"
   ]
  },
  {
   "cell_type": "markdown",
   "metadata": {},
   "source": [
    "### Validating phone numbers"
   ]
  },
  {
   "cell_type": "code",
   "execution_count": null,
   "metadata": {},
   "outputs": [],
   "source": [
    "import re\n",
    "\n",
    "if __name__ == '__main__':\n",
    "    T = int(input())\n",
    "    number_pattern = r'^[789]\\d{9}$' \n",
    "    for num in range(T):\n",
    "        my_input=input().strip()\n",
    "        if re.match(number_pattern, my_input):\n",
    "            print('YES')\n",
    "        else:\n",
    "            print('NO')"
   ]
  },
  {
   "cell_type": "markdown",
   "metadata": {},
   "source": [
    "### Validating and Parsing Email Addresses"
   ]
  },
  {
   "cell_type": "code",
   "execution_count": null,
   "metadata": {},
   "outputs": [],
   "source": [
    "import re\n",
    "import email.utils\n",
    "\n",
    "# Regex pattern for a valid email\n",
    "email_pattern = r'^[a-zA-Z][\\w.-]+@[a-zA-Z]+\\.[a-zA-Z]{1,3}$'\n",
    "\n",
    "if __name__ == '__main__':\n",
    "    n = int(input())  # Number of email address pairs\n",
    "    for _ in range(n):\n",
    "        name, email_addr = email.utils.parseaddr(input().strip())\n",
    "        \n",
    "        # Validate email address using regex\n",
    "        if re.match(email_pattern, email_addr):\n",
    "            print(email.utils.formataddr((name, email_addr)))\n"
   ]
  },
  {
   "cell_type": "markdown",
   "metadata": {},
   "source": [
    "### Re.start() & Re.end()"
   ]
  },
  {
   "cell_type": "code",
   "execution_count": null,
   "metadata": {},
   "outputs": [],
   "source": [
    "import re\n",
    "\n",
    "def find_substring_indices(s, k):\n",
    "    # Compile the pattern\n",
    "    pattern = re.compile(r'(?={})'.format(re.escape(k)))\n",
    "    \n",
    "    # Find all matches using finditer\n",
    "    matches = list(pattern.finditer(s))\n",
    "    \n",
    "    # If there are no matches, print (-1, -1)\n",
    "    if not matches:\n",
    "        print((-1, -1))\n",
    "    else:\n",
    "        # Print the start and end index for each match\n",
    "        for match in matches:\n",
    "            start = match.start()\n",
    "            end = start + len(k) - 1\n",
    "            print((start, end))\n",
    "\n",
    "if __name__ == \"__main__\":\n",
    "    s = input().strip()\n",
    "    k = input().strip()\n",
    "    find_substring_indices(s, k)\n"
   ]
  },
  {
   "cell_type": "markdown",
   "metadata": {},
   "source": [
    "### Validating Roman Numerals"
   ]
  },
  {
   "cell_type": "code",
   "execution_count": null,
   "metadata": {},
   "outputs": [],
   "source": [
    "regex_pattern = r\"^M{0,3}(CM|CD|D?C{0,3})(XC|XL|L?X{0,3})(IX|IV|V?I{0,3})$\"\n",
    "\n",
    "import re\n",
    "print(str(bool(re.match(regex_pattern, input()))))"
   ]
  },
  {
   "cell_type": "markdown",
   "metadata": {},
   "source": [
    "### Matrix Script"
   ]
  },
  {
   "cell_type": "code",
   "execution_count": null,
   "metadata": {},
   "outputs": [],
   "source": [
    "import math\n",
    "import os\n",
    "import random\n",
    "import re\n",
    "import sys\n",
    "\n",
    "first_multiple_input = input().rstrip().split()\n",
    "n = int(first_multiple_input[0])  # Number of rows\n",
    "m = int(first_multiple_input[1])  # Number of columns\n",
    "\n",
    "matrix = []\n",
    "for _ in range(n):\n",
    "    matrix_item = input()\n",
    "    matrix.append(matrix_item)\n",
    "\n",
    "decoded_string = ''.join([matrix[i][j] for j in range(m) for i in range(n)])\n",
    "\n",
    "cleaned_string = re.sub(r'(?<=\\w)([^\\w]+)(?=\\w)', ' ', decoded_string)\n",
    "print(cleaned_string)"
   ]
  },
  {
   "cell_type": "markdown",
   "metadata": {},
   "source": [
    "### Validating Postal Codes"
   ]
  },
  {
   "cell_type": "code",
   "execution_count": null,
   "metadata": {},
   "outputs": [],
   "source": [
    "regex_integer_in_range = r\"^[1-9][0-9]{5}$\"\t\n",
    "regex_alternating_repetitive_digit_pair = r\"(?=(\\d).\\1)\"\t\n",
    "\n",
    "\n",
    "import re\n",
    "P = input()\n",
    "\n",
    "print (bool(re.match(regex_integer_in_range, P)) \n",
    "and len(re.findall(regex_alternating_repetitive_digit_pair, P)) < 2)"
   ]
  },
  {
   "cell_type": "markdown",
   "metadata": {},
   "source": [
    "### HTML Parser - Part 1"
   ]
  },
  {
   "cell_type": "code",
   "execution_count": null,
   "metadata": {},
   "outputs": [],
   "source": [
    "from html.parser import HTMLParser\n",
    "\n",
    "def handle_starttag(tag, attrs):\n",
    "    print(f\"Start : {tag}\")\n",
    "    for attr in attrs:\n",
    "        attr_name = attr[0]\n",
    "        attr_value = attr[1] if attr[1] is not None else 'None'\n",
    "        print(f\"-> {attr_name} > {attr_value}\")\n",
    "\n",
    "def handle_endtag(tag):\n",
    "    print(f\"End   : {tag}\")\n",
    "\n",
    "def handle_startendtag(tag, attrs):\n",
    "    print(f\"Empty : {tag}\")\n",
    "    for attr in attrs:\n",
    "        attr_name = attr[0]\n",
    "        attr_value = attr[1] if attr[1] is not None else 'None'\n",
    "        print(f\"-> {attr_name} > {attr_value}\")\n",
    "\n",
    "parser = HTMLParser()\n",
    "\n",
    "parser.handle_starttag = handle_starttag\n",
    "parser.handle_endtag = handle_endtag\n",
    "parser.handle_startendtag = handle_startendtag\n",
    "\n",
    "n = int(input())\n",
    "html_code = ''.join([input() for _ in range(n)])\n",
    "\n",
    "parser.feed(html_code)"
   ]
  },
  {
   "cell_type": "markdown",
   "metadata": {},
   "source": [
    "### HTML Parser - Part 2"
   ]
  },
  {
   "cell_type": "code",
   "execution_count": null,
   "metadata": {},
   "outputs": [],
   "source": [
    "from html.parser import HTMLParser\n",
    "\n",
    "class MyHTMLParser(HTMLParser):\n",
    "    def handle_comment(self, data):\n",
    "        if '\\n' in data:\n",
    "            print(\">>> Multi-line Comment\")\n",
    "            print('\\n'.join(data.splitlines()))\n",
    "        else:\n",
    "            print(\">>> Single-line Comment\")\n",
    "            print(data)\n",
    "\n",
    "    def handle_data(self, data):\n",
    "        if data.strip():  # Ignore data that is just newline characters\n",
    "            print(\">>> Data\")\n",
    "            print(data)\n",
    "\n",
    "parser = MyHTMLParser()\n",
    "\n",
    "n = int(input())\n",
    "html_code = '\\n'.join([input() for _ in range(n)])  # Keep newlines intact for multi-line comments\n",
    "\n",
    "parser.feed(html_code)"
   ]
  },
  {
   "cell_type": "markdown",
   "metadata": {},
   "source": [
    "### Validating Credit Card Numbers"
   ]
  },
  {
   "cell_type": "code",
   "execution_count": null,
   "metadata": {},
   "outputs": [],
   "source": [
    "import re\n",
    "\n",
    "def validate_credit_card(card):\n",
    "    pattern = r'^[456]\\d{3}(-?\\d{4}){3}$'\n",
    "    \n",
    "    if re.match(pattern, card): \n",
    "        no_hyphen_card = card.replace('-', '') \n",
    "        if not re.search(r'(\\d)\\1{3}', no_hyphen_card):\n",
    "            return \"Valid\"\n",
    "    return \"Invalid\"\n",
    "\n",
    "n = int(input())\n",
    "for _ in range(n):\n",
    "    card_number = input().strip()\n",
    "    print(validate_credit_card(card_number))\n"
   ]
  },
  {
   "cell_type": "markdown",
   "metadata": {},
   "source": [
    "### Validating UID"
   ]
  },
  {
   "cell_type": "code",
   "execution_count": null,
   "metadata": {},
   "outputs": [],
   "source": [
    "import re\n",
    "\n",
    "def is_valid_uid(uid):\n",
    "    if len(uid) != 10:\n",
    "        return \"Invalid\"\n",
    "    \n",
    "    if not uid.isalnum():\n",
    "        return \"Invalid\"\n",
    "\n",
    "    if len(re.findall(r'[A-Z]', uid)) < 2:\n",
    "        return \"Invalid\"\n",
    "\n",
    "    if len(re.findall(r'\\d', uid)) < 3:\n",
    "        return \"Invalid\"\n",
    "    \n",
    "\n",
    "    if len(set(uid)) != len(uid):\n",
    "        return \"Invalid\"\n",
    "    \n",
    "    return \"Valid\"\n",
    "\n",
    "# Input reading\n",
    "n = int(input())  # Number of test cases\n",
    "uids = [input().strip() for _ in range(n)]  # Reading all UIDs\n",
    "\n",
    "for uid in uids:\n",
    "    print(is_valid_uid(uid))"
   ]
  },
  {
   "cell_type": "markdown",
   "metadata": {},
   "source": [
    "### Hex Color Code"
   ]
  },
  {
   "cell_type": "code",
   "execution_count": null,
   "metadata": {},
   "outputs": [],
   "source": [
    "import re\n",
    "\n",
    "def extract_hex_colors(n, css_code):\n",
    "    # Regular expression to match valid hex color codes within property values\n",
    "    hex_color_pattern = re.compile(r'(?<!^)(#(?:[0-9a-fA-F]{3}|[0-9a-fA-F]{6}))\\b')\n",
    "\n",
    "    for line in css_code:\n",
    "        matches = re.findall(hex_color_pattern, line)\n",
    "        for match in matches:\n",
    "            print(match)\n",
    "\n",
    "# Input reading\n",
    "n = int(input()) \n",
    "css_code = [input().strip() for _ in range(n)]  # Reading the CSS code lines\n",
    "extract_hex_colors(n, css_code)"
   ]
  },
  {
   "cell_type": "markdown",
   "metadata": {},
   "source": [
    "### Detect HTML Tags, Attributes and Attribute Values"
   ]
  },
  {
   "cell_type": "code",
   "execution_count": null,
   "metadata": {},
   "outputs": [],
   "source": [
    "from html.parser import HTMLParser\n",
    "\n",
    "if __name__ == '__main__':\n",
    "    n = int(input())\n",
    "    \n",
    "    class MyParser(HTMLParser):\n",
    "        def handle_starttag(self, tag, attributes):\n",
    "            print(tag)\n",
    "            [print('-> {} > {}'.format(*attribute)) for attribute in attributes]\n",
    "    html = '\\n'.join([input() for _ in range(0, n)])  \n",
    "    parser = MyParser()\n",
    "    parser.feed(html)\n",
    "    parser.close()"
   ]
  },
  {
   "cell_type": "markdown",
   "metadata": {},
   "source": [
    "### Birthday Cake Candles"
   ]
  },
  {
   "cell_type": "code",
   "execution_count": null,
   "metadata": {},
   "outputs": [],
   "source": [
    "#!/bin/python3\n",
    "\n",
    "import math\n",
    "import os\n",
    "import random\n",
    "import re\n",
    "import sys\n",
    "\n",
    "#\n",
    "# Complete the 'birthdayCakeCandles' function below.\n",
    "#\n",
    "# The function is expected to return an INTEGER.\n",
    "# The function accepts INTEGER_ARRAY candles as parameter.\n",
    "#\n",
    "\n",
    "def birthdayCakeCandles(candles):\n",
    "    maxi = max(candles)\n",
    "    count = 0\n",
    "    for i in range(len(candles)):\n",
    "        if candles[i] == maxi:\n",
    "            count+=1\n",
    "    return count\n",
    "\n",
    "if __name__ == '__main__':\n",
    "    fptr = open(os.environ['OUTPUT_PATH'], 'w')\n",
    "\n",
    "    candles_count = int(input().strip())\n",
    "\n",
    "    candles = list(map(int, input().rstrip().split()))\n",
    "\n",
    "    result = birthdayCakeCandles(candles)\n",
    "\n",
    "    fptr.write(str(result) + '\\n')\n",
    "\n",
    "    fptr.close()"
   ]
  },
  {
   "cell_type": "markdown",
   "metadata": {},
   "source": [
    "### Number Line Jumps"
   ]
  },
  {
   "cell_type": "code",
   "execution_count": null,
   "metadata": {},
   "outputs": [],
   "source": [
    "#!/bin/python3\n",
    "\n",
    "import math\n",
    "import os\n",
    "import random\n",
    "import re\n",
    "import sys\n",
    "\n",
    "#\n",
    "# Complete the 'kangaroo' function below.\n",
    "#\n",
    "# The function is expected to return a STRING.\n",
    "# The function accepts following parameters:\n",
    "#  1. INTEGER x1\n",
    "#  2. INTEGER v1\n",
    "#  3. INTEGER x2\n",
    "#  4. INTEGER v2\n",
    "#\n",
    "\n",
    "def kangaroo(x1, v1, x2, v2):\n",
    "    if v1 == v2:\n",
    "        if x1 == x2:\n",
    "            return \"YES\"\n",
    "        else: \n",
    "            return \"NO\"\n",
    "    else:\n",
    "        if (x2 - x1) % (v1 - v2) == 0 and (x2 - x1) / (v1 - v2) >=0:\n",
    "            return \"YES\"\n",
    "        else: return \"NO\"\n",
    "    \n",
    "    \n",
    "\n",
    "if __name__ == '__main__':\n",
    "    fptr = open(os.environ['OUTPUT_PATH'], 'w')\n",
    "\n",
    "    first_multiple_input = input().rstrip().split()\n",
    "\n",
    "    x1 = int(first_multiple_input[0])\n",
    "\n",
    "    v1 = int(first_multiple_input[1])\n",
    "\n",
    "    x2 = int(first_multiple_input[2])\n",
    "\n",
    "    v2 = int(first_multiple_input[3])\n",
    "\n",
    "    result = kangaroo(x1, v1, x2, v2)\n",
    "\n",
    "    fptr.write(result + '\\n')\n",
    "\n",
    "    fptr.close()\n"
   ]
  },
  {
   "cell_type": "markdown",
   "metadata": {},
   "source": [
    "### Viral Advertising"
   ]
  },
  {
   "cell_type": "code",
   "execution_count": null,
   "metadata": {},
   "outputs": [],
   "source": [
    "#!/bin/python3\n",
    "\n",
    "import math\n",
    "import os\n",
    "import random\n",
    "import re\n",
    "import sys\n",
    "\n",
    "#\n",
    "# Complete the 'viralAdvertising' function below.\n",
    "#\n",
    "# The function is expected to return an INTEGER.\n",
    "# The function accepts INTEGER n as parameter.\n",
    "#\n",
    "\n",
    "def viralAdvertising(n):\n",
    "    final_likes = 0\n",
    "    persons = 5\n",
    "    \n",
    "    for day in range(n):\n",
    "        likes = persons // 2\n",
    "        final_likes +=likes\n",
    "        persons = likes * 3\n",
    "    return final_likes\n",
    "        \n",
    "        \n",
    "\n",
    "if __name__ == '__main__':\n",
    "    fptr = open(os.environ['OUTPUT_PATH'], 'w')\n",
    "\n",
    "    n = int(input().strip())\n",
    "\n",
    "    result = viralAdvertising(n)\n",
    "\n",
    "    fptr.write(str(result) + '\\n')\n",
    "\n",
    "    fptr.close()\n"
   ]
  },
  {
   "cell_type": "markdown",
   "metadata": {},
   "source": [
    "### Recursive Digit Sum"
   ]
  },
  {
   "cell_type": "code",
   "execution_count": null,
   "metadata": {},
   "outputs": [],
   "source": [
    "#!/bin/python3\n",
    "\n",
    "import math\n",
    "import os\n",
    "import random\n",
    "import re\n",
    "import sys\n",
    "\n",
    "#\n",
    "# Complete the 'superDigit' function below.\n",
    "#\n",
    "# The function is expected to return an INTEGER.\n",
    "# The function accepts following parameters:\n",
    "#  1. STRING n\n",
    "#  2. INTEGER k\n",
    "#\n",
    "\n",
    "def superDigit(n, k):\n",
    "    def calc_super_digit(p):\n",
    "        if len(p) == 1:\n",
    "            return int(p)\n",
    "        else:\n",
    "            # Recursion here\n",
    "            summ = sum(int(digit) for digit in p)\n",
    "            return calc_super_digit(str(summ))\n",
    "\n",
    "    sum0 = sum(int(digit) for digit in n) * k\n",
    "    return calc_super_digit(str(sum0))\n",
    "\n",
    "if __name__ == '__main__':\n",
    "    fptr = open(os.environ['OUTPUT_PATH'], 'w')\n",
    "\n",
    "    first_multiple_input = input().rstrip().split()\n",
    "\n",
    "    n = first_multiple_input[0]\n",
    "\n",
    "    k = int(first_multiple_input[1])\n",
    "\n",
    "    result = superDigit(n, k)\n",
    "\n",
    "    fptr.write(str(result) + '\\n')\n",
    "\n",
    "    fptr.close()"
   ]
  },
  {
   "cell_type": "markdown",
   "metadata": {},
   "source": [
    "### Insertion Sort - Part 1"
   ]
  },
  {
   "cell_type": "code",
   "execution_count": null,
   "metadata": {},
   "outputs": [],
   "source": [
    "#!/bin/python3\n",
    "\n",
    "import math\n",
    "import os\n",
    "import random\n",
    "import re\n",
    "import sys\n",
    "\n",
    "#\n",
    "# Complete the 'insertionSort1' function below.\n",
    "#\n",
    "# The function accepts following parameters:\n",
    "#  1. INTEGER n\n",
    "#  2. INTEGER_ARRAY arr\n",
    "#\n",
    "\n",
    "def insertionSort1(n, arr):\n",
    "    main_el = arr[-1] \n",
    "    \n",
    "    i = n - 2\n",
    "    while i >= 0 and arr[i] > main_el:\n",
    "        arr[i + 1] = arr[i] \n",
    "        print(\" \".join(map(str, arr)))\n",
    "        i -= 1\n",
    "    arr[i + 1] = main_el \n",
    "    print(\" \".join(map(str, arr)))\n",
    "\n",
    "if __name__ == '__main__':\n",
    "    n = int(input().strip())\n",
    "\n",
    "    arr = list(map(int, input().rstrip().split()))\n",
    "\n",
    "    insertionSort1(n, arr)\n",
    "\n"
   ]
  },
  {
   "cell_type": "markdown",
   "metadata": {},
   "source": [
    "### Insertion Sort - Part 2"
   ]
  },
  {
   "cell_type": "code",
   "execution_count": null,
   "metadata": {},
   "outputs": [],
   "source": [
    "#!/bin/python3\n",
    "\n",
    "import math\n",
    "import os\n",
    "import random\n",
    "import re\n",
    "import sys\n",
    "\n",
    "#\n",
    "# Complete the 'insertionSort2' function below.\n",
    "#\n",
    "# The function accepts following parameters:\n",
    "#  1. INTEGER n\n",
    "#  2. INTEGER_ARRAY arr\n",
    "#\n",
    "\n",
    "def insertionSort2(n, arr):\n",
    "    # start from second element\n",
    "    for i in range(1, n):\n",
    "        main_el = arr[i]\n",
    "        j = i - 1\n",
    "        \n",
    "        while j >= 0 and arr[j] > main_el:\n",
    "            arr[j + 1] = arr[j]\n",
    "            j -= 1\n",
    "        \n",
    "        arr[j + 1] = main_el \n",
    "        \n",
    "        print(\" \".join(map(str, arr)))\n",
    "\n",
    "if __name__ == '__main__':\n",
    "    n = int(input().strip())\n",
    "\n",
    "    arr = list(map(int, input().rstrip().split()))\n",
    "\n",
    "    insertionSort2(n, arr)"
   ]
  }
 ],
 "metadata": {
  "kernelspec": {
   "display_name": "base",
   "language": "python",
   "name": "python3"
  },
  "language_info": {
   "name": "python",
   "version": "3.12.4"
  }
 },
 "nbformat": 4,
 "nbformat_minor": 2
}
